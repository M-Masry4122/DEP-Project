{
 "cells": [
  {
   "cell_type": "code",
   "execution_count": 1,
   "metadata": {},
   "outputs": [],
   "source": [
    "from selenium_profiles.webdriver import Chrome\n",
    "from selenium_profiles.profiles import profiles\n",
    "from selenium.webdriver.common.by import By\n",
    "from seleniumwire import webdriver\n",
    "import time\n",
    "import pandas as pd"
   ]
  },
  {
   "cell_type": "code",
   "execution_count": 4,
   "metadata": {},
   "outputs": [
    {
     "name": "stdout",
     "output_type": "stream",
     "text": [
      "No age gate, continuing...\n",
      "Palworld\n",
      "No age gate, continuing...\n",
      "Counter-Strike 2\n",
      "No age gate, continuing...\n",
      "Dota 2\n",
      "Age gate passed, continuing...\n",
      "Baldur's Gate 3\n",
      "4\n",
      "['https://store.steampowered.com/app/1623730/Palworld?snr=storesteampoweredcom_steamcharts_mostplayed__topchartlist', 'https://store.steampowered.com/app/730/CounterStrike_2?snr=storesteampoweredcom_steamcharts_mostplayed__topchartlist', 'https://store.steampowered.com/app/570/Dota_2?snr=storesteampoweredcom_steamcharts_mostplayed__topchartlist', 'https://store.steampowered.com/app/1086940/Baldurs_Gate_3?snr=storesteampoweredcom_steamcharts_mostplayed__topchartlist']\n"
     ]
    }
   ],
   "source": [
    "profile = profiles.Windows() # or .Android\n",
    "options = webdriver.ChromeOptions()\n",
    "# options.add_argument(\"--headless=new\")\n",
    "driver = Chrome(profile, options=options,\n",
    "                uc_driver=False\n",
    "                )\n",
    "\n",
    "driver.get(\"https://store.steampowered.com/charts/mostplayed/\")\n",
    "\n",
    "start = 0\n",
    "end = 5\n",
    "time.sleep(5)\n",
    "show_select = driver.find_element(By.XPATH, '//*[@id=\"page_root\"]/div[3]/div/div/div/div[3]/table')\n",
    "# show_select.click()\n",
    "\n",
    "# games = driver.find_elements(By.XPATH, f'//tbody/tr[position()>{start} and position()<{end}]')\n",
    "games = driver.find_elements(By.XPATH, f'//table/tbody/tr[position()>{start} and position()<{end}]')\n",
    "\n",
    "game_links = []\n",
    "game_names = []\n",
    "links = []\n",
    "for game in games:\n",
    "    game_link = game.find_element(By.XPATH, './td[3]/a').get_attribute('href')\n",
    "    game_links.append(game_link)\n",
    "\n",
    "\n",
    "for link in game_links:\n",
    "    driver.get(link)\n",
    "    time.sleep(3)\n",
    "    try:\n",
    "        # game.find_element(By.XPATH, '//*[@id=\"app_agegate\"]/div[1]/div[2]/div').get_attribute('href')\n",
    "        day = driver.find_element(By.ID, 'ageDay')\n",
    "        day.click()\n",
    "        day_menu = driver.find_element(By.XPATH, \"//option[@value='4']\")\n",
    "        day_menu.click()\n",
    "        month = driver.find_element(By.ID, 'ageMonth')\n",
    "        month.click()\n",
    "        month_menu = driver.find_element(By.XPATH, \"//option[@value='April']\")\n",
    "        month_menu.click()\n",
    "        year = driver.find_element(By.ID, 'ageYear')\n",
    "        year.click()\n",
    "        year_menu = driver.find_element(By.XPATH, \"//option[@value='2000']\")\n",
    "        year_menu.click()\n",
    "        view_page = driver.find_element(By.XPATH, '//*[@id=\"view_product_page_btn\"]/span')\n",
    "        view_page.click()\n",
    "        print('Age gate passed, continuing...')\n",
    "        time.sleep(3)\n",
    "\n",
    "    except:\n",
    "        print('No age gate, continuing...')\n",
    "    driver.execute_script(\"\"\"\n",
    "    for(let script of document.querySelectorAll('script')) script.remove()\n",
    "    \"\"\")\n",
    "    try:\n",
    "        game_name = driver.find_element(By.XPATH, '//*[@id=\"appHubAppName\"]').text\n",
    "        game_names.append(game_name)\n",
    "        links.append(link)\n",
    "        print(game_name)\n",
    "    except:\n",
    "        print('No game name found')\n",
    "    \n",
    "\n",
    "df = pd.DataFrame({'Game Name': game_names, 'Link': links})\n",
    "df.to_csv('steam_games.csv', index=False)\n",
    "print(len(game_links))\n",
    "print(game_links)\n",
    "driver.quit()"
   ]
  }
 ],
 "metadata": {
  "kernelspec": {
   "display_name": "Python 3",
   "language": "python",
   "name": "python3"
  },
  "language_info": {
   "codemirror_mode": {
    "name": "ipython",
    "version": 3
   },
   "file_extension": ".py",
   "mimetype": "text/x-python",
   "name": "python",
   "nbconvert_exporter": "python",
   "pygments_lexer": "ipython3",
   "version": "3.12.1"
  }
 },
 "nbformat": 4,
 "nbformat_minor": 2
}
