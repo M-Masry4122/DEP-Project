{
 "cells": [
  {
   "cell_type": "code",
   "execution_count": 1,
   "id": "ece58f17",
   "metadata": {},
   "outputs": [],
   "source": [
    "from selenium import webdriver\n",
    "import pandas as pd"
   ]
  },
  {
   "cell_type": "code",
   "execution_count": 6,
   "id": "d3d48531",
   "metadata": {},
   "outputs": [
    {
     "name": "stdout",
     "output_type": "stream",
     "text": [
      "The Way I Are Closed Captioned (feat. D.O.E. & Keri Hilson)\n"
     ]
    }
   ],
   "source": [
    "import os\n",
    "from selenium import webdriver\n",
    "from selenium.webdriver.common.by import By\n",
    "from selenium.webdriver.chrome.options import Options\n",
    "import time\n",
    "\n",
    "os.environ['PATH'] += r\"G:\\chromedriver-win64\"\n",
    "options1 = Options()\n",
    "options1.add_argument(\"load-extension=C:/Users/Masry/AppData/Local/Google/Chrome/User Data/Default/Extensions/bgnkhhnnamicmpeenaelnjfhikgbkllg/4.2.241_0/\")\n",
    "\n",
    "driver = webdriver.Chrome(options=options1)\n",
    "\n",
    "# driver = webdriver.Chrome()\n",
    "\n",
    "driver.get(\"https://music.youtube.com/playlist?list=RDATd-a01vsgrnE\")\n",
    "\n",
    "window_name = driver.window_handles[0]\n",
    "driver.switch_to.window(window_name)\n",
    "\n",
    "menu = driver.find_element(By.CLASS_NAME, \"title.style-scope.ytmusic-responsive-list-item-renderer.complex-string\")\n",
    "menu.click()\n",
    "\n",
    "time.sleep(2)\n",
    "title = driver.find_element(By.XPATH, \"//div/yt-formatted-string[@class='title style-scope ytmusic-player-bar']\").text\n",
    "print(title)\n",
    "  "
   ]
  },
  {
   "cell_type": "code",
   "execution_count": null,
   "id": "b42c3095",
   "metadata": {},
   "outputs": [],
   "source": []
  }
 ],
 "metadata": {
  "kernelspec": {
   "display_name": "Python 3 (ipykernel)",
   "language": "python",
   "name": "python3"
  },
  "language_info": {
   "codemirror_mode": {
    "name": "ipython",
    "version": 3
   },
   "file_extension": ".py",
   "mimetype": "text/x-python",
   "name": "python",
   "nbconvert_exporter": "python",
   "pygments_lexer": "ipython3",
   "version": "3.8.0"
  }
 },
 "nbformat": 4,
 "nbformat_minor": 5
}
