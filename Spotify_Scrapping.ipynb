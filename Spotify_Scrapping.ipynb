{
 "cells": [
  {
   "cell_type": "code",
   "execution_count": 1,
   "id": "ece58f17",
   "metadata": {},
   "outputs": [],
   "source": [
    "from selenium import webdriver\n"
   ]
  },
  {
   "cell_type": "code",
   "execution_count": 2,
   "id": "47c4fd7d",
   "metadata": {},
   "outputs": [],
   "source": []
  },
  {
   "cell_type": "code",
   "execution_count": null,
   "id": "ad03d3ec",
   "metadata": {},
   "outputs": [],
   "source": []
  },
  {
   "cell_type": "code",
   "execution_count": 2,
   "id": "be7cadae",
   "metadata": {},
   "outputs": [],
   "source": [
    "import os\n",
    "from selenium.webdriver.common.by import By\n",
    "driver = webdriver.Chrome()\n",
    "os.environ['PATH']+=r\"G:\\chromedriver-win64\"\n",
    "driver.get(\"http://organizeyourmusic.playlistmachinery.com\")\n",
    "\n",
    "menue = driver.find_element(By.ID, 'collection-type')\n",
    "menue.click()\n",
    "\n",
    "menu_all = driver.find_element(By.XPATH, \"//option[@value='all']\")\n",
    "menu_all.click()\n",
    "\n",
    "\n",
    "\n",
    "my_element = driver.find_element(By.ID, 'go')\n",
    "my_element.click()\n",
    "\n",
    "username_field = driver.find_element(By.ID, 'login-username')\n",
    "password_field = driver.find_element(By.ID, 'login-password')\n",
    "\n",
    "# Enter the login credentials\n",
    "username_field.send_keys('userdep08@gmail.com')\n",
    "password_field.send_keys('wQe6#DFybniq6@@')\n",
    "\n",
    "# Find and click the login button\n",
    "login_button = driver.find_element(By.ID, 'login-button')\n",
    "login_button.click()\n",
    "\n",
    "\n",
    "\n",
    "\n",
    "\n",
    "rows = driver.find_elements(By.XPATH, \"//tr\")  \n",
    "for row in rows:\n",
    "    print(row)"
   ]
  },
  {
   "cell_type": "code",
   "execution_count": 3,
   "id": "49eae4e6",
   "metadata": {},
   "outputs": [],
   "source": [
    "# Find and click the whenever button\n",
    "whenever_button=driver.find_element(By.XPATH,'/html/body/div[@class=\"row\"]/div[@id=\"sidebar\"]/ul[@id=\"Added\"]/li[4]')\n",
    "whenever_button.click()"
   ]
  },
  {
   "cell_type": "code",
   "execution_count": 4,
   "id": "409bf6ed",
   "metadata": {},
   "outputs": [],
   "source": [
    "import pandas as pd\n",
    "import json\n",
    "\n",
    "rows = driver.find_elements(By.XPATH, \"//tr[contains(@class,'google-visualization-table-tr')]\")\n",
    "csv_rows = []\n",
    "\n",
    "songs = []\n",
    "\n",
    "try:\n",
    "    with open(\"songs.json\",\"r\") as file:\n",
    "        songs = json.read(file)\n",
    "except:\n",
    "    songs = []\n",
    "\n",
    "\n",
    "for row in rows:\n",
    "    songs.append({\n",
    "        \"title\": row.find_element(By.XPATH , \".//td[4]\").text,\n",
    "        \"artist\": row.find_element(By.XPATH , \".//td[5]\").text,\n",
    "        \"top_genre\": row.find_element(By.XPATH , \".//td[6]\").text,\n",
    "        \"year\": row.find_element(By.XPATH , \".//td[7]\").text,\n",
    "        \"added\": row.find_element(By.XPATH , \".//td[8]\").text,\n",
    "        \"bpm\": row.find_element(By.XPATH , \".//td[9]\").text,\n",
    "        \"nrgy\": row.find_element(By.XPATH , \".//td[10]\").text,\n",
    "        \"dB\": row.find_element(By.XPATH , \".//td[12]\").text,\n",
    "        \"live\": row.find_element(By.XPATH , \".//td[13]\").text,\n",
    "        \"val\": row.find_element(By.XPATH , \".//td[14]\").text,\n",
    "        \"dur\": row.find_element(By.XPATH , \".//td[15]\").text,\n",
    "        \"acous\": row.find_element(By.XPATH , \".//td[16]\").text,\n",
    "        \"spch\": row.find_element(By.XPATH , \".//td[17]\").text,\n",
    "        \"pop\": row.find_element(By.XPATH , \".//td[18]\").text,\n",
    "   \n",
    "        \n",
    "    })\n",
    "\n",
    "df = pd.DataFrame(songs)\n",
    "df.to_csv(\"Data/songs.csv\")\n",
    "\n",
    "with open(\"songs.json\",\"w\") as file:\n",
    "    json.dump(songs,file)\n",
    "\n",
    "\n"
   ]
  },
  {
   "cell_type": "code",
   "execution_count": 8,
   "id": "24b331d7",
   "metadata": {},
   "outputs": [],
   "source": [
    "import glob\n",
    "import pandas as pd\n",
    "\n",
    "csv_files = glob.glob('Data/*.csv')\n",
    "dfs = []\n",
    "\n",
    "for file in csv_files:\n",
    "    df = pd.read_csv(file)\n",
    "    dfs.append(df)\n",
    "\n",
    "merged_df = pd.concat(dfs)\n",
    "merged_df.to_csv('merged_data.csv', index=False)\n"
   ]
  },
  {
   "cell_type": "code",
   "execution_count": 9,
   "id": "cb22fb60",
   "metadata": {},
   "outputs": [],
   "source": [
    "merged_df.drop_duplicates(subset=['title', 'artist'], inplace=True)\n",
    "merged_df.to_csv('merged_data_no_duplicates.csv', index=False)"
   ]
  }
 ],
 "metadata": {
  "kernelspec": {
   "display_name": "Python 3 (ipykernel)",
   "language": "python",
   "name": "python3"
  },
  "language_info": {
   "codemirror_mode": {
    "name": "ipython",
    "version": 3
   },
   "file_extension": ".py",
   "mimetype": "text/x-python",
   "name": "python",
   "nbconvert_exporter": "python",
   "pygments_lexer": "ipython3",
   "version": "3.8.0"
  }
 },
 "nbformat": 4,
 "nbformat_minor": 5
}
